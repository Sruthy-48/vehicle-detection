{
 "cells": [
  {
   "cell_type": "code",
   "execution_count": 1,
   "id": "3040a7f1",
   "metadata": {},
   "outputs": [],
   "source": [
    "import pandas as pd\n",
    "import numpy as np\n",
    "import cv2\n",
    "import matplotlib.pyplot as plt\n",
    "\n",
    "from glob import glob\n",
    "\n",
    "import IPython.display as ipd\n",
    "from tqdm import tqdm\n",
    "\n",
    "import subprocess\n",
    "\n",
    "plt.style.use('ggplot')"
   ]
  },
  {
   "cell_type": "code",
   "execution_count": 2,
   "id": "33f2f074",
   "metadata": {},
   "outputs": [],
   "source": [
    "import warnings\n",
    "warnings.filterwarnings(\"ignore\")"
   ]
  },
  {
   "cell_type": "code",
   "execution_count": 3,
   "id": "cb7002d5",
   "metadata": {},
   "outputs": [
    {
     "data": {
      "text/html": [
       "<video src=\"026c7465-309f6d33.mp4\" controls  width=\"700\" >\n",
       "      Your browser does not support the <code>video</code> element.\n",
       "    </video>"
      ],
      "text/plain": [
       "<IPython.core.display.Video object>"
      ]
     },
     "execution_count": 3,
     "metadata": {},
     "output_type": "execute_result"
    }
   ],
   "source": [
    "ipd.Video('026c7465-309f6d33.mp4', width=700)"
   ]
  },
  {
   "cell_type": "code",
   "execution_count": 4,
   "id": "a315920a",
   "metadata": {},
   "outputs": [],
   "source": [
    "# Load in video capture\n",
    "cap = cv2.VideoCapture('026c7465-309f6d33.mp4')"
   ]
  },
  {
   "cell_type": "code",
   "execution_count": 5,
   "id": "2e49f4de",
   "metadata": {},
   "outputs": [
    {
     "data": {
      "text/plain": [
       "2398.0"
      ]
     },
     "execution_count": 5,
     "metadata": {},
     "output_type": "execute_result"
    }
   ],
   "source": [
    "# Total number of frames in video\n",
    "cap.get(cv2.CAP_PROP_FRAME_COUNT)"
   ]
  },
  {
   "cell_type": "code",
   "execution_count": 6,
   "id": "33b3f433",
   "metadata": {},
   "outputs": [
    {
     "name": "stdout",
     "output_type": "stream",
     "text": [
      "Height 720.0, Width 1280.0\n"
     ]
    }
   ],
   "source": [
    "# Video height and width\n",
    "height = cap.get(cv2.CAP_PROP_FRAME_HEIGHT)\n",
    "width = cap.get(cv2.CAP_PROP_FRAME_WIDTH)\n",
    "print(f'Height {height}, Width {width}')"
   ]
  },
  {
   "cell_type": "code",
   "execution_count": 7,
   "id": "ca787af4",
   "metadata": {},
   "outputs": [
    {
     "name": "stdout",
     "output_type": "stream",
     "text": [
      "Defaulting to user installation because normal site-packages is not writeable\n",
      "Requirement already satisfied: imageAI in c:\\users\\user1\\appdata\\roaming\\python\\python39\\site-packages (3.0.3)\n",
      "Defaulting to user installation because normal site-packages is not writeable\n",
      "Requirement already satisfied: opencv-python in c:\\users\\user1\\appdata\\roaming\\python\\python39\\site-packages (4.7.0.72)\n",
      "Requirement already satisfied: numpy>=1.17.0 in c:\\users\\user1\\appdata\\roaming\\python\\python39\\site-packages (from opencv-python) (1.24.3)\n",
      "Defaulting to user installation because normal site-packages is not writeable\n",
      "Requirement already satisfied: Pillow in c:\\users\\user1\\appdata\\roaming\\python\\python39\\site-packages (9.5.0)\n"
     ]
    }
   ],
   "source": [
    "! pip install imageAI\n",
    "! pip install opencv-python\n",
    "! pip install Pillow"
   ]
  },
  {
   "cell_type": "code",
   "execution_count": 8,
   "id": "af9b0cd2",
   "metadata": {},
   "outputs": [],
   "source": [
    "from imageai.Detection import VideoObjectDetection"
   ]
  },
  {
   "cell_type": "code",
   "execution_count": 9,
   "id": "000fe2af",
   "metadata": {},
   "outputs": [],
   "source": [
    "vid_obj_detect = VideoObjectDetection()"
   ]
  },
  {
   "cell_type": "code",
   "execution_count": 10,
   "id": "123bd8fa",
   "metadata": {},
   "outputs": [],
   "source": [
    "vid_obj_detect.setModelTypeAsYOLOv3()"
   ]
  },
  {
   "cell_type": "code",
   "execution_count": 11,
   "id": "75552619",
   "metadata": {},
   "outputs": [
    {
     "data": {
      "text/plain": [
       "True"
      ]
     },
     "execution_count": 11,
     "metadata": {},
     "output_type": "execute_result"
    }
   ],
   "source": [
    "start_time = 5 # skip first {start_time} seconds\n",
    "cap.set(cv2.CAP_PROP_POS_FRAMES, start_time * cap.get(cv2.CAP_PROP_FPS))\n"
   ]
  },
  {
   "cell_type": "code",
   "execution_count": 12,
   "id": "65d49222",
   "metadata": {},
   "outputs": [],
   "source": [
    "from ultralytics import YOLO"
   ]
  },
  {
   "cell_type": "code",
   "execution_count": 13,
   "id": "f48be11a",
   "metadata": {},
   "outputs": [],
   "source": [
    "model_path = \"models/yolov8m.onnx\""
   ]
  },
  {
   "cell_type": "code",
   "execution_count": 14,
   "id": "50ab3b61",
   "metadata": {},
   "outputs": [],
   "source": [
    "model = YOLO(\"yolov8m.pt\")"
   ]
  },
  {
   "cell_type": "code",
   "execution_count": null,
   "id": "8b1917a9",
   "metadata": {},
   "outputs": [],
   "source": [
    "cap.release()"
   ]
  },
  {
   "cell_type": "code",
   "execution_count": null,
   "id": "987fa473",
   "metadata": {},
   "outputs": [],
   "source": [
    "fig, axs = plt.subplots(5, 5, figsize=(30, 20))\n",
    "axs = axs.flatten()\n",
    "\n",
    "cap = cv2.VideoCapture(\"026c7465-309f6d33.mp4\")\n",
    "n_frames = int(cap.get(cv2.CAP_PROP_FRAME_COUNT))\n",
    "\n",
    "img_idx = 0\n",
    "for frame in range(n_frames):\n",
    "    ret, img = cap.read()\n",
    "    if ret == False:\n",
    "        break\n",
    "    if frame % 100 == 0:\n",
    "        axs[img_idx].imshow(cv2.cvtColor(img, cv2.COLOR_BGR2RGB))\n",
    "        axs[img_idx].set_title(f'Frame: {frame}')\n",
    "        axs[img_idx].axis('off')\n",
    "        img_idx += 1\n",
    "\n",
    "plt.tight_layout()\n",
    "plt.show()\n",
    "cap.release()"
   ]
  },
  {
   "cell_type": "code",
   "execution_count": 16,
   "id": "3f90a1db",
   "metadata": {},
   "outputs": [],
   "source": [
    "labels = pd.read_csv('coco.csv',low_memory=False)\n"
   ]
  },
  {
   "cell_type": "code",
   "execution_count": 17,
   "id": "7f04f683",
   "metadata": {},
   "outputs": [
    {
     "name": "stdout",
     "output_type": "stream",
     "text": [
      "        person\n",
      "0      bicycle\n",
      "1          car\n",
      "2   motorcycle\n",
      "3     airplane\n",
      "4          bus\n",
      "..         ...\n",
      "74        vase\n",
      "75    scissors\n",
      "76  teddy bear\n",
      "77  hair drier\n",
      "78  toothbrush\n",
      "\n",
      "[79 rows x 1 columns]\n"
     ]
    }
   ],
   "source": [
    "print(labels)"
   ]
  }
 ],
 "metadata": {
  "kernelspec": {
   "display_name": "Python 3 (ipykernel)",
   "language": "python",
   "name": "python3"
  },
  "language_info": {
   "codemirror_mode": {
    "name": "ipython",
    "version": 3
   },
   "file_extension": ".py",
   "mimetype": "text/x-python",
   "name": "python",
   "nbconvert_exporter": "python",
   "pygments_lexer": "ipython3",
   "version": "3.9.13"
  }
 },
 "nbformat": 4,
 "nbformat_minor": 5
}
